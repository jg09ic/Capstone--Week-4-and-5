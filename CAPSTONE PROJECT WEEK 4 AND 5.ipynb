{
    "cells": [
        {
            "cell_type": "markdown",
            "metadata": {
                "collapsed": true
            },
            "source": "PROBLEM AND BACKGROUND: ASSUMING A PERSON WHO LIVES IN TORONTO IS MOVING TO NEW YORK CITY. HE LIKES THE AMENITIES (I.E., PARKS, CONVINIENT SORES, COFFEE SHOPS, CLUBS, GYMS, RESTAURANTS, ECT.) THAT THE NEIGHBORHOOD WHERE HE IS CURRECTLY LIVING IN PROVIDES, AND DECIDES TO FIND A SIMILAR NEIGHBORHOOD IN NEW YORK CITY SO HE CAN KEEP HIS LIFE STYLE AFTHE THE MOVE.THE NEIGHBORHOOD OF TORONTO WHERE HE LIVES IS CALLED \"CALEDONIS- FAIRBANKS\". THIS PROJECT WILL CLUSTERING THE NEW YORK CITY NEIGHBOORHOODS TOGETHER WITH \"CALEDONIS- FAIRBANKS\" BASED ON NUMBERS, TYPES OF THE VENUES NEARBY AND FIND THE ONE THAT IS CLOSEST TO \"CALEDONIS- FAIRBANKS\". \n\nDATA: THE FOURSQURE DATABASE WILL BE USED TO GET INFORMATIONO OF NEIGHBORHOODS AND THEIR VENUES.   "
        }
    ],
    "metadata": {
        "kernelspec": {
            "display_name": "Python 3.6",
            "language": "python",
            "name": "python3"
        },
        "language_info": {
            "codemirror_mode": {
                "name": "ipython",
                "version": 3
            },
            "file_extension": ".py",
            "mimetype": "text/x-python",
            "name": "python",
            "nbconvert_exporter": "python",
            "pygments_lexer": "ipython3",
            "version": "3.6.9"
        }
    },
    "nbformat": 4,
    "nbformat_minor": 1
}